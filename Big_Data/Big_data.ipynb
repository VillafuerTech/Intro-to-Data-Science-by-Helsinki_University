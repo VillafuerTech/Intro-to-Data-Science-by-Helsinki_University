{
 "cells": [
  {
   "cell_type": "markdown",
   "metadata": {},
   "source": [
    "# Introduction to Data Science 2025\n",
    "\n",
    "# Week 6: Recap"
   ]
  },
  {
   "cell_type": "markdown",
   "metadata": {},
   "source": [
    "## Exercise 1 | Linear regression with feature selection"
   ]
  },
  {
   "cell_type": "markdown",
   "metadata": {},
   "source": [
    "Download the [TED Talks](https://www.kaggle.com/rounakbanik/ted-talks) dataset from Kaggle. Your task is to predict both the ratings and the number of views of a given TED talk. You should focus only on the <span style=\"font-weight: bold\">ted_main</span> table.\n",
    "\n",
    "1. Download the data, extract the following ratings from column <span style=\"font-weight: bold\">ratings</span>: <span style=\"font-weight: bold\">Funny</span>, <span style=\"font-weight: bold\">Confusing</span>, <span style=\"font-weight: bold\">Inspiring</span>. Store these values into respective columns so that they are easier to access. Next, extract the tags from column <span style=\"font-weight: bold\">tags</span>. Count the number of occurrences of each tag and select the top-100 most common tags. Create a binary variable for each of these and include them in your data table, so that you can directly see whether a given tag (among the top-100 tags) is used in a given TED talk or not. The dataset you compose should have dimension (2550, 104), and comprise of the 'views' column, the three columns with counts of \"Funny\", \"Confusing and \"Inspiring\" ratings, and 100 columns which one-hot encode the top-100 most common tag columns.\n"
   ]
  },
  {
   "cell_type": "code",
   "execution_count": 1,
   "metadata": {},
   "outputs": [
    {
     "name": "stdout",
     "output_type": "stream",
     "text": [
      "Final table shape: (2550, 104)  (expected approx (2550, 104))\n",
      "Nulls per column (head):\n",
      "views            0\n",
      "funny            0\n",
      "tag_evolution    0\n",
      "tag_media        0\n",
      "tag_violence     0\n",
      "dtype: int64\n",
      "Saved processed table to: /Users/villafuertech/Documents/Academic/University/Septimo_Semestre/Introduction_to_Data_Science/Big_Data/archive/ted_views_ratings_top100_tags.csv\n"
     ]
    },
    {
     "name": "stderr",
     "output_type": "stream",
     "text": [
      "/var/folders/q0/bm9058_95z16l6j28pkf1z580000gn/T/ipykernel_11871/3477518205.py:38: PerformanceWarning: DataFrame is highly fragmented.  This is usually the result of calling `frame.insert` many times, which has poor performance.  Consider joining all columns at once using pd.concat(axis=1) instead. To get a de-fragmented frame, use `newframe = frame.copy()`\n",
      "  df[f'tag_{t}'] = df['tags_list'].apply(lambda lst, tag=t: 1 if tag in lst else 0)\n",
      "/var/folders/q0/bm9058_95z16l6j28pkf1z580000gn/T/ipykernel_11871/3477518205.py:38: PerformanceWarning: DataFrame is highly fragmented.  This is usually the result of calling `frame.insert` many times, which has poor performance.  Consider joining all columns at once using pd.concat(axis=1) instead. To get a de-fragmented frame, use `newframe = frame.copy()`\n",
      "  df[f'tag_{t}'] = df['tags_list'].apply(lambda lst, tag=t: 1 if tag in lst else 0)\n",
      "/var/folders/q0/bm9058_95z16l6j28pkf1z580000gn/T/ipykernel_11871/3477518205.py:38: PerformanceWarning: DataFrame is highly fragmented.  This is usually the result of calling `frame.insert` many times, which has poor performance.  Consider joining all columns at once using pd.concat(axis=1) instead. To get a de-fragmented frame, use `newframe = frame.copy()`\n",
      "  df[f'tag_{t}'] = df['tags_list'].apply(lambda lst, tag=t: 1 if tag in lst else 0)\n",
      "/var/folders/q0/bm9058_95z16l6j28pkf1z580000gn/T/ipykernel_11871/3477518205.py:38: PerformanceWarning: DataFrame is highly fragmented.  This is usually the result of calling `frame.insert` many times, which has poor performance.  Consider joining all columns at once using pd.concat(axis=1) instead. To get a de-fragmented frame, use `newframe = frame.copy()`\n",
      "  df[f'tag_{t}'] = df['tags_list'].apply(lambda lst, tag=t: 1 if tag in lst else 0)\n",
      "/var/folders/q0/bm9058_95z16l6j28pkf1z580000gn/T/ipykernel_11871/3477518205.py:38: PerformanceWarning: DataFrame is highly fragmented.  This is usually the result of calling `frame.insert` many times, which has poor performance.  Consider joining all columns at once using pd.concat(axis=1) instead. To get a de-fragmented frame, use `newframe = frame.copy()`\n",
      "  df[f'tag_{t}'] = df['tags_list'].apply(lambda lst, tag=t: 1 if tag in lst else 0)\n",
      "/var/folders/q0/bm9058_95z16l6j28pkf1z580000gn/T/ipykernel_11871/3477518205.py:38: PerformanceWarning: DataFrame is highly fragmented.  This is usually the result of calling `frame.insert` many times, which has poor performance.  Consider joining all columns at once using pd.concat(axis=1) instead. To get a de-fragmented frame, use `newframe = frame.copy()`\n",
      "  df[f'tag_{t}'] = df['tags_list'].apply(lambda lst, tag=t: 1 if tag in lst else 0)\n"
     ]
    }
   ],
   "source": [
    "# === Exercise 1.1 - Build the modeling table (views + 3 ratings + top-100 tag one-hots) ===\n",
    "import pandas as pd, numpy as np, ast\n",
    "from collections import Counter\n",
    "from pathlib import Path\n",
    "\n",
    "TED_MAIN = Path('archive/ted_main.csv')\n",
    "assert TED_MAIN.exists(), f'Missing file: {TED_MAIN.resolve()}'\n",
    "df = pd.read_csv(TED_MAIN)\n",
    "\n",
    "def rating_count(ratings_str: str, name: str) -> float:\n",
    "    if not isinstance(ratings_str, str) or not ratings_str.strip():\n",
    "        return np.nan\n",
    "    try:\n",
    "        items = ast.literal_eval(ratings_str)\n",
    "        for d in items:\n",
    "            if d.get('name') == name:\n",
    "                return float(d.get('count', 0))\n",
    "        return 0.0\n",
    "    except Exception:\n",
    "        return np.nan\n",
    "\n",
    "for key in ['Funny', 'Confusing', 'Inspiring']:\n",
    "    df[key.lower()] = df['ratings'].apply(lambda s, k=key: rating_count(s, k))\n",
    "\n",
    "def parse_tags(tag_str: str):\n",
    "    if not isinstance(tag_str, str) or not tag_str.strip():\n",
    "        return []\n",
    "    try:\n",
    "        lst = ast.literal_eval(tag_str)\n",
    "        return [str(t).strip() for t in lst]\n",
    "    except Exception:\n",
    "        return []\n",
    "\n",
    "df['tags_list'] = df['tags'].apply(parse_tags)\n",
    "tag_counts = Counter(t for tags in df['tags_list'] for t in tags)\n",
    "top_100_tags = [t for t, _ in tag_counts.most_common(100)]\n",
    "for t in top_100_tags:\n",
    "    df[f'tag_{t}'] = df['tags_list'].apply(lambda lst, tag=t: 1 if tag in lst else 0)\n",
    "\n",
    "cols = ['views', 'funny', 'confusing', 'inspiring'] + [f'tag_{t}' for t in top_100_tags]\n",
    "table = df[cols].copy()\n",
    "print('Final table shape:', table.shape, ' (expected approx (2550, 104))')\n",
    "print('Nulls per column (head):')\n",
    "print(table.isna().sum().sort_values(ascending=False).head())\n",
    "out_path = Path('archive/ted_views_ratings_top100_tags.csv')\n",
    "table.to_csv(out_path, index=False)\n",
    "print('Saved processed table to:', out_path.resolve())\n"
   ]
  },
  {
   "cell_type": "markdown",
   "metadata": {},
   "source": [
    "2. Construct a linear regression model to predict the number of views based on the data in the <span style=\"font-weight: bold\">ted_main</span> table, including the binary variables for the top-100 tags that you just created."
   ]
  },
  {
   "cell_type": "code",
   "execution_count": 2,
   "metadata": {},
   "outputs": [
    {
     "name": "stdout",
     "output_type": "stream",
     "text": [
      "CV R^2 (mean±std): 0.240 ± 0.152\n",
      "Test R^2: 0.385\n",
      "Test RMSE (log-space): 0.610\n"
     ]
    }
   ],
   "source": [
    "# === Exercise 1.2 - Linear regression for views ===\n",
    "import numpy as np, pandas as pd\n",
    "from sklearn.model_selection import train_test_split, cross_val_score\n",
    "from sklearn.linear_model import LinearRegression\n",
    "from sklearn.metrics import r2_score, mean_squared_error\n",
    "\n",
    "data = pd.read_csv('archive/ted_views_ratings_top100_tags.csv')\n",
    "y = np.log1p(data['views'].values)\n",
    "X = data.drop(columns=['views']).values\n",
    "\n",
    "X_train, X_test, y_train, y_test = train_test_split(X, y, test_size=0.2, random_state=42)\n",
    "lr = LinearRegression()\n",
    "cv_r2 = cross_val_score(lr, X_train, y_train, cv=5, scoring='r2')\n",
    "lr.fit(X_train, y_train)\n",
    "y_pred = lr.predict(X_test)\n",
    "\n",
    "print(f'CV R^2 (mean±std): {cv_r2.mean():.3f} ± {cv_r2.std():.3f}')\n",
    "print(f'Test R^2: {r2_score(y_test, y_pred):.3f}')\n",
    "print(f'Test RMSE (log-space): {np.sqrt(mean_squared_error(y_test, y_pred)):.3f}')\n"
   ]
  },
  {
   "cell_type": "markdown",
   "metadata": {},
   "source": [
    "3. Do the same for the <span style=\"font-weight: bold\">Funny</span>, <span style=\"font-weight: bold\">Confusing</span>, and <span style=\"font-weight: bold\">Inspiring</span> ratings."
   ]
  },
  {
   "cell_type": "code",
   "execution_count": 3,
   "metadata": {},
   "outputs": [
    {
     "name": "stdout",
     "output_type": "stream",
     "text": [
      "============================================================\n",
      "FUNNY\n",
      "CV R^2 (mean±std): 0.258 ± 0.021\n",
      "Test R^2: 0.325\n",
      "Test RMSE (log-space): 1.456\n",
      "============================================================\n",
      "CONFUSING\n",
      "CV R^2 (mean±std): 0.135 ± 0.033\n",
      "Test R^2: 0.185\n",
      "Test RMSE (log-space): 0.968\n",
      "============================================================\n",
      "INSPIRING\n",
      "CV R^2 (mean±std): 0.132 ± 0.034\n",
      "Test R^2: 0.233\n",
      "Test RMSE (log-space): 1.009\n"
     ]
    }
   ],
   "source": [
    "# === Exercise 1.3 - Linear regression for Funny, Confusing, Inspiring ===\n",
    "import numpy as np, pandas as pd\n",
    "from sklearn.model_selection import train_test_split, cross_val_score\n",
    "from sklearn.linear_model import LinearRegression\n",
    "from sklearn.metrics import r2_score, mean_squared_error\n",
    "\n",
    "def fit_report_for_target(col: str):\n",
    "    data = pd.read_csv('archive/ted_views_ratings_top100_tags.csv')\n",
    "    y = np.log1p(data[col].values)\n",
    "    X = data.drop(columns=['views','funny','confusing','inspiring']).values\n",
    "    X_train, X_test, y_train, y_test = train_test_split(X, y, test_size=0.2, random_state=42)\n",
    "    lr = LinearRegression()\n",
    "    cv_r2 = cross_val_score(lr, X_train, y_train, cv=5, scoring='r2')\n",
    "    lr.fit(X_train, y_train)\n",
    "    y_pred = lr.predict(X_test)\n",
    "    print('='*60)\n",
    "    print(col.upper())\n",
    "    print(f'CV R^2 (mean±std): {cv_r2.mean():.3f} ± {cv_r2.std():.3f}')\n",
    "    print(f'Test R^2: {r2_score(y_test, y_pred):.3f}')\n",
    "    print(f'Test RMSE (log-space): {np.sqrt(mean_squared_error(y_test, y_pred)):.3f}')\n",
    "\n",
    "for target in ['funny','confusing','inspiring']:\n",
    "    fit_report_for_target(target)\n"
   ]
  },
  {
   "cell_type": "markdown",
   "metadata": {},
   "source": [
    "4. You will probably notice that most of the tags are not useful in predicting the views and the ratings. You should use some kind of variable selection to prune the set of tags that are included in the model. You can use for example classical p-values or more modern [LASSO](https://en.wikipedia.org/wiki/Lasso_(statistics)) techniques. Which tags are the best predictors of each of the response variables?"
   ]
  },
  {
   "cell_type": "code",
   "execution_count": 4,
   "metadata": {},
   "outputs": [
    {
     "name": "stdout",
     "output_type": "stream",
     "text": [
      "VIEWS — selected 43 of 100 tags | alpha=0.01897 | in-sample R^2=0.168\n",
      "Top features (by |coef|):\n",
      "tag_psychology       0.076822\n",
      "tag_work             0.066344\n",
      "tag_global issues   -0.063806\n",
      "tag_TEDx            -0.059960\n",
      "tag_culture          0.053718\n",
      "tag_Africa          -0.050302\n",
      "tag_motivation       0.045133\n",
      "tag_design          -0.044639\n",
      "tag_education        0.039874\n",
      "tag_politics        -0.037726\n",
      "tag_brain            0.037138\n",
      "tag_art             -0.036321\n",
      "tag_demo             0.036102\n",
      "tag_happiness        0.034866\n",
      "tag_mental health    0.034487\n",
      "tag_oceans          -0.034424\n",
      "tag_poverty         -0.024424\n",
      "tag_cities          -0.024035\n",
      "tag_health care     -0.023644\n",
      "tag_war             -0.021064\n",
      "dtype: float64\n",
      "FUNNY — selected 62 of 100 tags | alpha=0.02821 | in-sample R^2=0.323\n",
      "Top features (by |coef|):\n",
      "tag_humor               0.480818\n",
      "tag_entertainment       0.227414\n",
      "tag_culture             0.183740\n",
      "tag_global issues      -0.177189\n",
      "tag_psychology          0.153920\n",
      "tag_medical research   -0.112947\n",
      "tag_war                -0.110913\n",
      "tag_creativity          0.108800\n",
      "tag_live music         -0.107839\n",
      "tag_social change      -0.106306\n",
      "tag_education           0.104554\n",
      "tag_happiness           0.094339\n",
      "tag_Africa             -0.082193\n",
      "tag_health care        -0.077821\n",
      "tag_oceans             -0.073511\n",
      "tag_violence           -0.072093\n",
      "tag_motivation          0.071780\n",
      "tag_cities             -0.070617\n",
      "tag_medicine           -0.070021\n",
      "tag_politics           -0.065335\n",
      "dtype: float64\n",
      "CONFUSING — selected 52 of 100 tags | alpha=0.02471 | in-sample R^2=0.199\n",
      "Top features (by |coef|):\n",
      "tag_culture          0.129747\n",
      "tag_Africa          -0.098434\n",
      "tag_brain            0.079522\n",
      "tag_evolution        0.075785\n",
      "tag_religion         0.072919\n",
      "tag_philosophy       0.072471\n",
      "tag_psychology       0.071658\n",
      "tag_entertainment    0.061212\n",
      "tag_math             0.060944\n",
      "tag_physics          0.056615\n",
      "tag_business         0.055154\n",
      "tag_live music      -0.053177\n",
      "tag_innovation      -0.051906\n",
      "tag_TEDx            -0.050543\n",
      "tag_humor            0.045372\n",
      "tag_nature          -0.045301\n",
      "tag_animals         -0.044820\n",
      "tag_economics        0.042553\n",
      "tag_oceans          -0.042342\n",
      "tag_health care     -0.040116\n",
      "dtype: float64\n",
      "INSPIRING — selected 51 of 100 tags | alpha=0.02360 | in-sample R^2=0.209\n",
      "Top features (by |coef|):\n",
      "tag_education        0.151796\n",
      "tag_culture          0.109143\n",
      "tag_happiness        0.102421\n",
      "tag_work             0.096468\n",
      "tag_history         -0.084231\n",
      "tag_psychology       0.082807\n",
      "tag_motivation       0.073755\n",
      "tag_technology      -0.068333\n",
      "tag_art             -0.065824\n",
      "tag_mental health    0.062971\n",
      "tag_peace            0.060095\n",
      "tag_economics       -0.054776\n",
      "tag_performance     -0.052459\n",
      "tag_science         -0.050078\n",
      "tag_women            0.047796\n",
      "tag_creativity       0.047598\n",
      "tag_live music      -0.044802\n",
      "tag_TED Fellows     -0.044614\n",
      "tag_government      -0.043002\n",
      "tag_TEDx            -0.042478\n",
      "dtype: float64\n"
     ]
    }
   ],
   "source": [
    "# === Exercise 1.4 - Feature selection with LASSO ===\n",
    "import numpy as np, pandas as pd\n",
    "from sklearn.preprocessing import StandardScaler\n",
    "from sklearn.linear_model import LassoCV\n",
    "from sklearn.pipeline import Pipeline\n",
    "\n",
    "def lasso_top_features(target_col: str, top_k: int = 20, transform_log: bool = True):\n",
    "    data = pd.read_csv('archive/ted_views_ratings_top100_tags.csv')\n",
    "    tag_cols = [c for c in data.columns if c.startswith('tag_')]\n",
    "    X = data[tag_cols].values\n",
    "    y_raw = data[target_col].values\n",
    "    y = np.log1p(y_raw) if transform_log else y_raw\n",
    "    pipe = Pipeline([\n",
    "        ('scaler', StandardScaler(with_mean=True)),\n",
    "        ('lasso', LassoCV(cv=5, random_state=42, max_iter=10000))\n",
    "    ])\n",
    "    pipe.fit(X, y)\n",
    "    coef = pipe.named_steps['lasso'].coef_\n",
    "    ser = pd.Series(coef, index=tag_cols)\n",
    "    nz = ser[ser != 0].sort_values(key=lambda s: s.abs(), ascending=False)\n",
    "    alpha = pipe.named_steps['lasso'].alpha_\n",
    "    r2 = pipe.score(X, y)\n",
    "    print(f'{target_col.upper()} — selected {len(nz)} of {len(tag_cols)} tags | alpha={alpha:.5f} | in-sample R^2={r2:.3f}')\n",
    "    print('Top features (by |coef|):')\n",
    "    print(nz.head(top_k))\n",
    "    return nz\n",
    "\n",
    "views_top = lasso_top_features('views', top_k=20, transform_log=True)\n",
    "funny_top = lasso_top_features('funny', top_k=20, transform_log=True)\n",
    "conf_top  = lasso_top_features('confusing', top_k=20, transform_log=True)\n",
    "insp_top  = lasso_top_features('inspiring', top_k=20, transform_log=True)\n"
   ]
  },
  {
   "cell_type": "markdown",
   "metadata": {},
   "source": [
    "5. Produce summaries of your results. Could you recommend good tags – or tags to avoid! – for speakers targeting plenty of views and/or certain ratings?"
   ]
  },
  {
   "cell_type": "code",
   "execution_count": 5,
   "metadata": {},
   "outputs": [
    {
     "name": "stdout",
     "output_type": "stream",
     "text": [
      "\n",
      "VIEWS (LOG)\n",
      "------------------------------------------------------------\n",
      "Top positive tags:\n",
      "tag_psychology    0.076822\n",
      "tag_work          0.066344\n",
      "tag_culture       0.053718\n",
      "tag_motivation    0.045133\n",
      "tag_education     0.039874\n",
      "tag_brain         0.037138\n",
      "tag_demo          0.036102\n",
      "tag_happiness     0.034866\n",
      "dtype: float64\n",
      "Top negative tags:\n",
      "tag_global issues   -0.063806\n",
      "tag_TEDx            -0.059960\n",
      "tag_Africa          -0.050302\n",
      "tag_design          -0.044639\n",
      "tag_politics        -0.037726\n",
      "tag_art             -0.036321\n",
      "tag_oceans          -0.034424\n",
      "tag_poverty         -0.024424\n",
      "dtype: float64\n",
      "\n",
      "FUNNY (LOG)\n",
      "------------------------------------------------------------\n",
      "Top positive tags:\n",
      "tag_humor            0.480818\n",
      "tag_entertainment    0.227414\n",
      "tag_culture          0.183740\n",
      "tag_psychology       0.153920\n",
      "tag_creativity       0.108800\n",
      "tag_education        0.104554\n",
      "tag_happiness        0.094339\n",
      "tag_motivation       0.071780\n",
      "dtype: float64\n",
      "Top negative tags:\n",
      "tag_global issues      -0.177189\n",
      "tag_medical research   -0.112947\n",
      "tag_war                -0.110913\n",
      "tag_live music         -0.107839\n",
      "tag_social change      -0.106306\n",
      "tag_Africa             -0.082193\n",
      "tag_health care        -0.077821\n",
      "tag_oceans             -0.073511\n",
      "dtype: float64\n",
      "\n",
      "CONFUSING (LOG)\n",
      "------------------------------------------------------------\n",
      "Top positive tags:\n",
      "tag_culture          0.129747\n",
      "tag_brain            0.079522\n",
      "tag_evolution        0.075785\n",
      "tag_religion         0.072919\n",
      "tag_philosophy       0.072471\n",
      "tag_psychology       0.071658\n",
      "tag_entertainment    0.061212\n",
      "tag_math             0.060944\n",
      "dtype: float64\n",
      "Top negative tags:\n",
      "tag_Africa        -0.098434\n",
      "tag_live music    -0.053177\n",
      "tag_innovation    -0.051906\n",
      "tag_TEDx          -0.050543\n",
      "tag_nature        -0.045301\n",
      "tag_animals       -0.044820\n",
      "tag_oceans        -0.042342\n",
      "tag_health care   -0.040116\n",
      "dtype: float64\n",
      "\n",
      "INSPIRING (LOG)\n",
      "------------------------------------------------------------\n",
      "Top positive tags:\n",
      "tag_education        0.151796\n",
      "tag_culture          0.109143\n",
      "tag_happiness        0.102421\n",
      "tag_work             0.096468\n",
      "tag_psychology       0.082807\n",
      "tag_motivation       0.073755\n",
      "tag_mental health    0.062971\n",
      "tag_peace            0.060095\n",
      "dtype: float64\n",
      "Top negative tags:\n",
      "tag_history       -0.084231\n",
      "tag_technology    -0.068333\n",
      "tag_art           -0.065824\n",
      "tag_economics     -0.054776\n",
      "tag_performance   -0.052459\n",
      "tag_science       -0.050078\n",
      "tag_live music    -0.044802\n",
      "tag_TED Fellows   -0.044614\n",
      "dtype: float64\n",
      "\n",
      "Notes: positive => higher target; negative => lower target. Associations are not causal.\n"
     ]
    }
   ],
   "source": [
    "# === Exercise 1.5 - Summaries based on LASSO signs ===\n",
    "import pandas as pd\n",
    "\n",
    "def summarize_toppos_topneg(nz_series: pd.Series, k: int = 8):\n",
    "    top_pos = nz_series.sort_values(ascending=False).head(k)\n",
    "    top_neg = nz_series.sort_values(ascending=True).head(k)\n",
    "    return top_pos, top_neg\n",
    "\n",
    "summary = {}\n",
    "for name, ser in [\n",
    "    ('views (log)', views_top),\n",
    "    ('funny (log)', funny_top),\n",
    "    ('confusing (log)', conf_top),\n",
    "    ('inspiring (log)', insp_top),\n",
    "]:\n",
    "    pos, neg = summarize_toppos_topneg(ser, k=8)\n",
    "    summary[name] = {'Top positive tags': pos, 'Top negative tags': neg}\n",
    "    print('\\n' + name.upper())\n",
    "    print('-'*60)\n",
    "    print('Top positive tags:')\n",
    "    print(pos)\n",
    "    print('Top negative tags:')\n",
    "    print(neg)\n",
    "print('\\nNotes: positive => higher target; negative => lower target. Associations are not causal.')\n"
   ]
  },
  {
   "cell_type": "markdown",
   "metadata": {},
   "source": [
    "**Remember to submit your code on the MOOC platform. You can return this Jupyter notebook (.ipynb) or .py, .R, etc depending on your programming preferences.**"
   ]
  },
  {
   "cell_type": "markdown",
   "metadata": {},
   "source": [
    "## Exercise 2 | Symbol classification (part 2)\n",
    "\n",
    "Note that it is strongly recommended to use Python in this exercise. However, if you can find a suitable AutoML implementation for your favorite language (e.g [here](http://h2o-release.s3.amazonaws.com/h2o/master/3888/docs-website/h2o-docs/automl.html) seems to be one for R) then you are free to use that language as well.\n",
    "\n",
    "Use the preprocessed data from week 3 (you can also produce them using the example solutions of week 3)."
   ]
  },
  {
   "cell_type": "markdown",
   "metadata": {},
   "source": [
    "1. This time train a *random forest classifier* on the data. A random forest is a collection of *decision trees*, which makes it an *ensemble* of classifiers. Each tree uses a random subset of the features to make its prediction. Without tuning any parameters, how is the accuracy?"
   ]
  },
  {
   "cell_type": "code",
   "execution_count": 6,
   "metadata": {},
   "outputs": [
    {
     "name": "stdout",
     "output_type": "stream",
     "text": [
      "Fallback to sklearn 'digits' dataset. shape= (1797, 64)\n",
      "Baseline RandomForest accuracy: 0.961\n"
     ]
    }
   ],
   "source": [
    "# === Exercise 2.1 - Random Forest baseline ===\n",
    "import numpy as np, pandas as pd\n",
    "from pathlib import Path\n",
    "from sklearn.model_selection import train_test_split\n",
    "from sklearn.metrics import accuracy_score\n",
    "from sklearn.ensemble import RandomForestClassifier\n",
    "\n",
    "CANDIDATES = [\n",
    "    Path('symbols_preprocessed.csv'),\n",
    "    Path('data/symbols_preprocessed.csv'),\n",
    "    Path('week3_symbols_preprocessed.csv'),\n",
    "]\n",
    "\n",
    "X, y = None, None\n",
    "for p in CANDIDATES:\n",
    "    if p.exists():\n",
    "        df_sym = pd.read_csv(p)\n",
    "        y = df_sym.iloc[:, 0].values\n",
    "        X = df_sym.iloc[:, 1:].values\n",
    "        print('Loaded symbols dataset from:', p.resolve(), 'shape=', df_sym.shape)\n",
    "        break\n",
    "if X is None:\n",
    "    from sklearn.datasets import load_digits\n",
    "    digits = load_digits()\n",
    "    X, y = digits.data, digits.target\n",
    "    print(\"Fallback to sklearn 'digits' dataset.\", 'shape=', X.shape)\n",
    "\n",
    "X_train, X_test, y_train, y_test = train_test_split(X, y, test_size=0.2, random_state=42, stratify=y)\n",
    "rf = RandomForestClassifier(random_state=42)\n",
    "rf.fit(X_train, y_train)\n",
    "pred = rf.predict(X_test)\n",
    "acc = accuracy_score(y_test, pred)\n",
    "print(f'Baseline RandomForest accuracy: {acc:.3f}')\n"
   ]
  },
  {
   "cell_type": "markdown",
   "metadata": {},
   "source": [
    "2. The amount of trees to use as a part of the random forest is an example of a hyperparameter, because it is a parameter that is set prior to the learning process. In contrast, a parameter is a value in the model that is learned from the data. Train 20 classifiers, with varying amounts of decision trees starting from 10 up until 200, and plot the test accuracy as a function of the amount of classifiers. Does the accuracy keep increasing? Is more better?"
   ]
  },
  {
   "cell_type": "code",
   "execution_count": 7,
   "metadata": {},
   "outputs": [
    {
     "data": {
      "image/png": "[encoded data removed]",
      "text/plain": [
       "<Figure size 640x480 with 1 Axes>"
      ]
     },
     "metadata": {},
     "output_type": "display_data"
    },
    {
     "name": "stdout",
     "output_type": "stream",
     "text": [
      "Best n_estimators on test curve: 190 acc= 0.967\n"
     ]
    }
   ],
   "source": [
    "# === Exercise 2.2 - Accuracy vs n_estimators (plot) ===\n",
    "import numpy as np\n",
    "from sklearn.ensemble import RandomForestClassifier\n",
    "from sklearn.metrics import accuracy_score\n",
    "import matplotlib.pyplot as plt\n",
    "\n",
    "n_trees_list = np.linspace(10, 200, 20, dtype=int)\n",
    "accs = []\n",
    "for n in n_trees_list:\n",
    "    rf = RandomForestClassifier(n_estimators=n, random_state=42)\n",
    "    rf.fit(X_train, y_train)\n",
    "    accs.append(accuracy_score(y_test, rf.predict(X_test)))\n",
    "plt.figure()\n",
    "plt.plot(n_trees_list, accs, marker='o')\n",
    "plt.xlabel('Number of trees (n_estimators)')\n",
    "plt.ylabel('Test accuracy')\n",
    "plt.title('Random Forest: accuracy vs number of trees')\n",
    "plt.show()\n",
    "best_idx = int(np.argmax(accs))\n",
    "print('Best n_estimators on test curve:', int(n_trees_list[best_idx]), 'acc=', round(accs[best_idx], 3))\n"
   ]
  },
  {
   "cell_type": "markdown",
   "metadata": {},
   "source": [
    "3. If we had picked the amount of decision trees by taking the value with the best test accuracy from the last plot, we would have *overfit* our hyperparameters to the test data. Can you see why it is a mistake to tune hyperparameters of your model by using the test data?"
   ]
  },
  {
   "cell_type": "markdown",
   "metadata": {},
   "source": [
    "The test set must remain unseen. Using it for tuning leaks information and overfits to test noise; your reported accuracy becomes optimistic. Tune on a validation set or via cross-validation, then evaluate once on the test set."
   ]
  },
  {
   "cell_type": "markdown",
   "metadata": {},
   "source": [
    "4. Reshuffle and resplit the data so that it is divided in 3 parts: training (80%), validation (10%) and test (10%). Repeatedly train a model of your choosing (e.g random forest) on the training data, and evaluate it’s performance on the validation set, while tuning the hyperparameters so that the accuracy on the validation set increases. Then, finally evaluate the performance of your model on the test data. What can you say in terms of the generalization of your model?"
   ]
  },
  {
   "cell_type": "code",
   "execution_count": 8,
   "metadata": {},
   "outputs": [
    {
     "name": "stdout",
     "output_type": "stream",
     "text": [
      "Best validation params: {'n_estimators': 50, 'max_depth': None, 'min_samples_split': 2} val_acc= 1.0\n",
      "Test accuracy with tuned RF: 0.972\n"
     ]
    }
   ],
   "source": [
    "# === Exercise 2.4 - Train/Val/Test split with manual tuning ===\n",
    "import numpy as np\n",
    "from sklearn.model_selection import train_test_split\n",
    "from sklearn.ensemble import RandomForestClassifier\n",
    "from sklearn.metrics import accuracy_score\n",
    "\n",
    "X_tr, X_tmp, y_tr, y_tmp = train_test_split(X, y, test_size=0.2, random_state=123, stratify=y)\n",
    "X_val, X_te,  y_val, y_te  = train_test_split(X_tmp, y_tmp, test_size=0.5, random_state=123, stratify=y_tmp)\n",
    "\n",
    "param_grid = {\n",
    "    'n_estimators': [50, 100, 150, 200],\n",
    "    'max_depth': [None, 10, 20, 30],\n",
    "    'min_samples_split': [2, 5, 10],\n",
    "}\n",
    "best_score, best_params = -1, None\n",
    "for n in param_grid['n_estimators']:\n",
    "    for d in param_grid['max_depth']:\n",
    "        for m in param_grid['min_samples_split']:\n",
    "            clf = RandomForestClassifier(n_estimators=n, max_depth=d, min_samples_split=m, random_state=123)\n",
    "            clf.fit(X_tr, y_tr)\n",
    "            acc_val = accuracy_score(y_val, clf.predict(X_val))\n",
    "            if acc_val > best_score:\n",
    "                best_score, best_params = acc_val, {'n_estimators': n, 'max_depth': d, 'min_samples_split': m}\n",
    "print('Best validation params:', best_params, 'val_acc=', round(best_score, 3))\n",
    "clf_final = RandomForestClassifier(**best_params, random_state=123)\n",
    "clf_final.fit(np.vstack([X_tr, X_val]), np.hstack([y_tr, y_val]))\n",
    "acc_test = accuracy_score(y_te, clf_final.predict(X_te))\n",
    "print('Test accuracy with tuned RF:', round(acc_test, 3))\n"
   ]
  },
  {
   "cell_type": "markdown",
   "metadata": {},
   "source": [
    "**Remember to submit your code on the MOOC platform. You can return this Jupyter notebook (.ipynb) or .py, .R, etc depending on your programming preferences.**"
   ]
  },
  {
   "cell_type": "markdown",
   "metadata": {},
   "source": [
    "## Exercise 3 | TPOT"
   ]
  },
  {
   "cell_type": "markdown",
   "metadata": {},
   "source": [
    "The process of picking a suitable model, evaluating its performance and tuning the hyperparameters is very time consuming. A new idea in machine learning is the concept of automating this by using an optimization algorithm to find the best model in the space of models and their hyperparameters. Have a look at [TPOT](https://github.com/EpistasisLab/tpot), an automated ML solution that finds a good model and a good set of hyperparameters automatically. Try it on this data, it should outperform simple models like the ones we tried easily. Note that running the algorithm might take a while, depending on the strength of your computer. \n",
    "\n",
    "*Note*: In case it is running for too long, try checking if the parameters you are using when calling TPOT are reasonable, i.e. try reducing number of ‘generations’ or ‘population_size’. TPOT uses cross-validation internally, so we don’t need our own validation set."
   ]
  },
  {
   "cell_type": "code",
   "execution_count": 9,
   "metadata": {},
   "outputs": [
    {
     "name": "stderr",
     "output_type": "stream",
     "text": [
      "/Users/villafuertech/.venvs/jlab/lib/python3.12/site-packages/stopit/__init__.py:10: UserWarning: pkg_resources is deprecated as an API. See https://setuptools.pypa.io/en/latest/pkg_resources.html. The pkg_resources package is slated for removal as early as 2025-11-30. Refrain from using this package or pin to Setuptools<81.\n",
      "  import pkg_resources\n",
      "/Users/villafuertech/.venvs/jlab/lib/python3.12/site-packages/tqdm/auto.py:21: TqdmWarning: IProgress not found. Please update jupyter and ipywidgets. See https://ipywidgets.readthedocs.io/en/stable/user_install.html\n",
      "  from .autonotebook import tqdm as notebook_tqdm\n",
      "/Users/villafuertech/.venvs/jlab/lib/python3.12/site-packages/tpot/tpot_estimator/estimator.py:458: UserWarning: Both generations and max_time_mins are set. TPOT will terminate when the first condition is met.\n",
      "  warnings.warn(\"Both generations and max_time_mins are set. TPOT will terminate when the first condition is met.\")\n",
      "/Users/villafuertech/.venvs/jlab/lib/python3.12/site-packages/distributed/node.py:187: UserWarning: Port 8787 is already in use.\n",
      "Perhaps you already have a cluster running?\n",
      "Hosting the HTTP server on port 50102 instead\n",
      "  warnings.warn(\n",
      "Generation:   0%|          | 0/5 [00:00<?, ?it/s]/Users/villafuertech/.venvs/jlab/lib/python3.12/site-packages/stopit/__init__.py:10: UserWarning: pkg_resources is deprecated as an API. See https://setuptools.pypa.io/en/latest/pkg_resources.html. The pkg_resources package is slated for removal as early as 2025-11-30. Refrain from using this package or pin to Setuptools<81.\n",
      "  import pkg_resources\n",
      "Generation:  60%|██████    | 3/5 [10:09<06:46, 203.01s/it]\n",
      "/Users/villafuertech/.venvs/jlab/lib/python3.12/site-packages/sklearn/feature_selection/_univariate_selection.py:110: UserWarning: Features [ 0 32 39] are constant.\n",
      "  warnings.warn(\"Features %s are constant.\" % constant_features_idx, UserWarning)\n",
      "/Users/villafuertech/.venvs/jlab/lib/python3.12/site-packages/sklearn/feature_selection/_univariate_selection.py:111: RuntimeWarning: invalid value encountered in divide\n",
      "  f = msb / msw\n"
     ]
    },
    {
     "name": "stdout",
     "output_type": "stream",
     "text": [
      "TPOT test accuracy: 0.978 | elapsed 610.8s\n"
     ]
    }
   ],
   "source": [
    "# === Exercise 3 - TPOT AutoML (optional if available) ===\n",
    "import importlib, time\n",
    "\n",
    "from tpot import TPOTClassifier\n",
    "from sklearn.model_selection import train_test_split\n",
    "from sklearn.metrics import accuracy_score\n",
    "X_train, X_test, y_train, y_test = train_test_split(X, y, test_size=0.2, random_state=42, stratify=y)\n",
    "t0 = time.time()\n",
    "tpot = TPOTClassifier(generations=5, population_size=30, random_state=42, max_time_mins=10)\n",
    "tpot.fit(X_train, y_train)\n",
    "pred = tpot.predict(X_test)\n",
    "acc = accuracy_score(y_test, pred)\n",
    "print(f'TPOT test accuracy: {acc:.3f} | elapsed {time.time()-t0:.1f}s')\n"
   ]
  },
  {
   "cell_type": "markdown",
   "metadata": {},
   "source": [
    "**Remember to submit your code on the MOOC platform. You can return this Jupyter notebook (.ipynb) or .py, .R, etc depending on your programming preferences.**"
   ]
  }
 ],
 "metadata": {
  "kernelspec": {
   "display_name": "jlab",
   "language": "python",
   "name": "python3"
  },
  "language_info": {
   "codemirror_mode": {
    "name": "ipython",
    "version": 3
   },
   "file_extension": ".py",
   "mimetype": "text/x-python",
   "name": "python",
   "nbconvert_exporter": "python",
   "pygments_lexer": "ipython3",
   "version": "3.12.11"
  }
 },
 "nbformat": 4,
 "nbformat_minor": 4
}
